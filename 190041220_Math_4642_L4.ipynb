{
  "nbformat": 4,
  "nbformat_minor": 0,
  "metadata": {
    "colab": {
      "provenance": [],
      "include_colab_link": true
    },
    "kernelspec": {
      "name": "python3",
      "display_name": "Python 3"
    },
    "language_info": {
      "name": "python"
    }
  },
  "cells": [
    {
      "cell_type": "markdown",
      "metadata": {
        "id": "view-in-github",
        "colab_type": "text"
      },
      "source": [
        "<a href=\"https://colab.research.google.com/github/tas-anne/Numerical-Method-LabTask/blob/main/190041220_Math_4642_L4.ipynb\" target=\"_parent\"><img src=\"https://colab.research.google.com/assets/colab-badge.svg\" alt=\"Open In Colab\"/></a>"
      ]
    },
    {
      "cell_type": "markdown",
      "source": [
        "# **Lab 4 : Linear Regression**<br>\n",
        "\n",
        "Regression is the process of estimating a model that produces the best fit for the given data. **Linear Regression** is the simplest and most popular among them. A linear regression model is given by y = a<sub>0</sub> + a<sub>1</sub>x, where a<sub>0</sub> and a<sub>1</sub> are the parameters of the regression model. The values of these two parameters should be such that the produced result of (a<sub>0</sub> + a<sub>1</sub>x) should have the least deviation from the actual result. In order to measure how well our model fits the data or whether it deviates from the actual result, we use the least square criterion.\n",
        "\n",
        "In today's lab, we will be implementing Linear Regression in python. Note that there might be built-in functions for linear regression in python, but the purpose of this lab is to understand how linear regression actually works, and hence those built-in functions are not allowed. To test our implementation, we will be using the same data that is available in the first example of our class lecture pdf. That way, you can check whether your implementation is working correctly by comparing with the results obtained in that example. Run the following cell to load the known data points:\n"
      ],
      "metadata": {
        "id": "Dex_lDl5gUKB"
      }
    },
    {
      "cell_type": "code",
      "source": [
        "theta = [0.698132, 0.959931, 1.134464, 1.570796, 1.919862]\n",
        "torque = [0.188224, 0.209138, 0.230052, 0.250965, 0.313707]"
      ],
      "metadata": {
        "id": "_QpvT2CYjART"
      },
      "execution_count": null,
      "outputs": []
    },
    {
      "cell_type": "markdown",
      "source": [
        "##Task 1\n",
        "Assuming that the linear regression model for the given data is defined as Torque = a<sub>0</sub> + a<sub>1</sub>*Theta, write a function that takes the given data as input and returns the regression parameters a<sub>0</sub> and a<sub>1</sub>."
      ],
      "metadata": {
        "id": "_XU-vXFFzj4T"
      }
    },
    {
      "cell_type": "code",
      "source": [
        "import numpy as np\n",
        "import matplotlib.pyplot as plt\n",
        "import sympy as sym\n",
        "def LinearRegression(theta, torque):\n",
        "  #Write your implementation here\n",
        "  theta = np.array([0.698132, 0.959931, 1.134464, 1.570796, 1.919862])\n",
        "  torque = np.array([0.188224, 0.209138, 0.230052, 0.250965, 0.313707])\n",
        "  x = theta\n",
        "  y = torque\n",
        "\n",
        "  n = len(x)\n",
        "  x_bar, y_bar = np.mean(x), np.mean(y)\n",
        "\n",
        "  SS_xy = np.sum(x*y) - n*x_bar*y_bar \n",
        "  SS_xx = np.sum(x*x) - n*x_bar*x_bar \n",
        "\n",
        "  a1 = SS_xy / SS_xx \n",
        "  a0 = y_bar - a1*x_bar \n",
        "\n",
        "  print('The value of a0 is: ' , a0)\n",
        "  print('The value of a1 is: ' , a1)\n",
        "\n",
        "  return a0, a1\n",
        "\n",
        "\n",
        "\n",
        "  "
      ],
      "metadata": {
        "id": "xv0ziIB60ET8"
      },
      "execution_count": null,
      "outputs": []
    },
    {
      "cell_type": "code",
      "source": [
        "LinearRegression(theta, torque)"
      ],
      "metadata": {
        "colab": {
          "base_uri": "https://localhost:8080/"
        },
        "id": "EmFJXBevW10A",
        "outputId": "d88199cb-ef3c-4a57-a6a5-2f38a476ab9c"
      },
      "execution_count": null,
      "outputs": [
        {
          "output_type": "stream",
          "name": "stdout",
          "text": [
            "The value of a0 is:  0.1176651489883401\n",
            "The value of a1 is:  0.09609143373278034\n"
          ]
        },
        {
          "output_type": "execute_result",
          "data": {
            "text/plain": [
              "(0.1176651489883401, 0.09609143373278034)"
            ]
          },
          "metadata": {},
          "execution_count": 28
        }
      ]
    },
    {
      "cell_type": "markdown",
      "source": [
        "##Task 2\n",
        "Write another function that takes any arbitrary value as input and applies the regression model to generate the output. "
      ],
      "metadata": {
        "id": "GzKLR0nkj32g"
      }
    },
    {
      "cell_type": "code",
      "source": [
        "def calculate(x):\n",
        "  #Write your implementation here\n",
        "  a0, a1 = LinearRegression(theta, torque)\n",
        "  res = a0+a1*x\n",
        "  print(res)\n",
        "\n",
        "  return res\n",
        "\n",
        "\n",
        "\n",
        "  \n"
      ],
      "metadata": {
        "id": "2m1trUT_k5pi"
      },
      "execution_count": null,
      "outputs": []
    },
    {
      "cell_type": "code",
      "source": [
        "calculate(0.75)"
      ],
      "metadata": {
        "colab": {
          "base_uri": "https://localhost:8080/"
        },
        "id": "sqLAdH4KXjEI",
        "outputId": "63eb5cc1-92f0-4e62-d6d3-c4ac359a556c"
      },
      "execution_count": null,
      "outputs": [
        {
          "output_type": "stream",
          "name": "stdout",
          "text": [
            "The value of a0 is:  0.1176651489883401\n",
            "The value of a1 is:  0.09609143373278034\n",
            "0.18973372428792534\n"
          ]
        },
        {
          "output_type": "execute_result",
          "data": {
            "text/plain": [
              "0.18973372428792534"
            ]
          },
          "metadata": {},
          "execution_count": 31
        }
      ]
    },
    {
      "cell_type": "markdown",
      "source": [
        "##Task 3\n",
        "Generate a plot of the regression curve using the model you just produced. Show the original data points (theta, torque) on the same plot using scatter plot. Use different colors for the regression curve and the original data points and show a legend. For this task, you are allowed to use various libraries such as matplotlib."
      ],
      "metadata": {
        "id": "HhsqLMYYpD8S"
      }
    },
    {
      "cell_type": "code",
      "source": [
        "#Write your code here for generating the plot\n",
        "iters=[]\n",
        "iters.append(min(theta)-0.1)\n",
        "iters.append(max(theta)+0.1)\n",
        "y_pred=[]\n",
        "for i in iters:\n",
        "    x1 = calculate(i)\n",
        "    y_pred.append(x1)\n",
        "\n",
        "\n",
        "x = theta\n",
        "y = torque\n",
        "print(iters)\n",
        "\n",
        "plt.scatter(x,y, label='Original Points', color = 'g')\n",
        "\n",
        "plt.plot(iters, y_pred, label = 'Regression', color = 'r')\n",
        "plt.title('Regression test')\n",
        "plt.xlabel('Angle, Theta')\n",
        "plt.ylabel('Torque, Nm')\n",
        "plt.legend()\n",
        "plt.show()\n",
        "\n"
      ],
      "metadata": {
        "id": "ShRMjjHSm-dq",
        "colab": {
          "base_uri": "https://localhost:8080/",
          "height": 417
        },
        "outputId": "5ebfc66a-672b-4e50-adec-80905e56b858"
      },
      "execution_count": null,
      "outputs": [
        {
          "output_type": "stream",
          "name": "stdout",
          "text": [
            "The value of a0 is:  0.1176651489883401\n",
            "The value of a1 is:  0.09609143373278034\n",
            "0.17514051042979548\n",
            "The value of a0 is:  0.1176651489883401\n",
            "The value of a1 is:  0.09609143373278034\n",
            "0.3117565845107012\n",
            "[0.598132, 2.019862]\n"
          ]
        },
        {
          "output_type": "display_data",
          "data": {
            "text/plain": [
              "<Figure size 432x288 with 1 Axes>"
            ],
            "image/png": "[encoded data removed]"
          },
          "metadata": {
            "needs_background": "light"
          }
        }
      ]
    }
  ]
}