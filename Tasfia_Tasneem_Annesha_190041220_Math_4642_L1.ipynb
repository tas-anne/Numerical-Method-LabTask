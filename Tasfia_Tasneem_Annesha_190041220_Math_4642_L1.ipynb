{
  "nbformat": 4,
  "nbformat_minor": 0,
  "metadata": {
    "colab": {
      "provenance": []
    },
    "kernelspec": {
      "name": "python3",
      "display_name": "Python 3"
    },
    "language_info": {
      "name": "python"
    }
  },
  "cells": [
    {
      "cell_type": "markdown",
      "metadata": {
        "id": "SChhcgB_Tkv9"
      },
      "source": [
        "# **Lab 1 : Bisection Method**<br>\n",
        "\n",
        "The bisection method (also known as the binary search method) is a method of finding roots of a non-linear function. The assumption here is that the function is real continuous, otherwise the bisection method will not work. It is based on the **Intermediate Value Theorem** which states that if f(x) is a real continuous function, and if f(x<sub>l</sub>)f(x<sub>u</sub>)\\< 0 then there must be a root between x<sub>l</sub> and x<sub>u</sub>.\n",
        "\n",
        "In today's lab, we will be implementing the bisection method in python. We will be considering the function f(x) as an array of coefficients, for instance if we want to have f(x) = x<sup>3</sup>-2x<sup>2</sup>+4, then in python we will create an array as follows:\n"
      ]
    },
    {
      "cell_type": "code",
      "metadata": {
        "id": "rZ4tGQSjTvYF",
        "colab": {
          "base_uri": "https://localhost:8080/"
        },
        "outputId": "94386a9a-86cd-481c-acbf-c27f22a569bc"
      },
      "source": [
        "import numpy as np\n",
        "\n",
        "f = np.array([1,-2,0,4])\n",
        "\n",
        "print(f)"
      ],
      "execution_count": 1,
      "outputs": [
        {
          "output_type": "stream",
          "name": "stdout",
          "text": [
            "[ 1 -2  0  4]\n"
          ]
        }
      ]
    },
    {
      "cell_type": "markdown",
      "metadata": {
        "id": "E4vSfOrrTwlc"
      },
      "source": [
        "Next, you will need to create a user-defined function as follows\n",
        "\n",
        "```\n",
        "bisection_method(f, xl, xu, epsilon)\n",
        "```\n",
        "This function will return the root of the equation represented by the array f and in case it does not reach the root exactly then it will return the close enough value to the root that has an absolute relative approximate error of at most epsilon (%).\n",
        "\n",
        "In python, functions are defined as follows"
      ]
    },
    {
      "cell_type": "code",
      "metadata": {
        "colab": {
          "base_uri": "https://localhost:8080/"
        },
        "id": "aUR8kbzqT0AM",
        "outputId": "582bf7ad-5696-43fa-ea5d-37b6c1cd2889"
      },
      "source": [
        "#Execute this cell to test how the function works\n",
        "\n",
        "def func(a,b):\n",
        "  result = a + b\n",
        "  return result\n",
        "\n",
        "print(func(1,2))"
      ],
      "execution_count": 2,
      "outputs": [
        {
          "output_type": "stream",
          "name": "stdout",
          "text": [
            "3\n"
          ]
        }
      ]
    },
    {
      "cell_type": "markdown",
      "metadata": {
        "id": "cCGekrFWT3Lc"
      },
      "source": [
        "Note that in python, we do not need to specify the data type for parameters nor any return type for the function as these are implicitly determined. Also, note the colon (:) after the function signature. Indentation matters in python, since the consecutive codes having same indentation will be considered as a single block."
      ]
    },
    {
      "cell_type": "markdown",
      "metadata": {
        "id": "3sOLCbqJT7q0"
      },
      "source": [
        "##Task 1\n",
        "Implement the function for bisection method following the requirements set earlier. Write a script after the function to call it and test whether it is working correctly."
      ]
    },
    {
      "cell_type": "code",
      "metadata": {
        "id": "f6HGUB7nT9k9",
        "colab": {
          "base_uri": "https://localhost:8080/"
        },
        "outputId": "e4a6147c-8dbb-4413-9dea-9897966438b3"
      },
      "source": [
        "iterNo=[]\n",
        "possibleRoots=[]\n",
        "errors=[]\n",
        "f = [0,1,-2,-3]\n",
        "i=1\n",
        "def eqn(x):\n",
        "  result=0\n",
        "  for i in range(len(f)):\n",
        "    result=result+f[i]*pow(x,len(f)-i-1)\n",
        "  return result\n",
        "\n",
        "#Complete the following function\n",
        "\n",
        "def bisection_method(f, xl, xu, epsilon):\n",
        "  #write your implementation here\n",
        " \n",
        "  global i\n",
        "  error=10000000\n",
        "  if(eqn(xl)*eqn(xu))<0:\n",
        "    condition=True\n",
        "    while condition:\n",
        "      xm=(xl+xu)/2\n",
        "      if (eqn(xl)*eqn(xm))<0:\n",
        "        xu=xm\n",
        "      else:\n",
        "        xl=xm\n",
        "      possibleRoots.append(xm)\n",
        "      if i!=1:\n",
        "        error=abs((possibleRoots[i-1]-possibleRoots[i-2])/possibleRoots[i-1])*100\n",
        "        errors.append(error)\n",
        "        iterNo.append(i)\n",
        "      i=i+1\n",
        "      print(\"Iteration No: \"+str(i)+\"  Root: \"+str(xm))\n",
        "      print(\"Error: \"+str(error))\n",
        "      condition= error>epsilon\n",
        "    return  xm   \n",
        "\n",
        "\n",
        "\n",
        "#Write a driver code here for calling the function and testing it\n",
        "bisection_method (f, 1,5 ,.1)\n"
      ],
      "execution_count": 31,
      "outputs": [
        {
          "output_type": "stream",
          "name": "stdout",
          "text": [
            "Iteration No: 2  Root: 3.0\n",
            "Error: 10000000\n",
            "Iteration No: 3  Root: 4.0\n",
            "Error: 25.0\n",
            "Iteration No: 4  Root: 4.5\n",
            "Error: 11.11111111111111\n",
            "Iteration No: 5  Root: 4.75\n",
            "Error: 5.263157894736842\n",
            "Iteration No: 6  Root: 4.875\n",
            "Error: 2.564102564102564\n",
            "Iteration No: 7  Root: 4.9375\n",
            "Error: 1.2658227848101267\n",
            "Iteration No: 8  Root: 4.96875\n",
            "Error: 0.628930817610063\n",
            "Iteration No: 9  Root: 4.984375\n",
            "Error: 0.3134796238244514\n",
            "Iteration No: 10  Root: 4.9921875\n",
            "Error: 0.1564945226917058\n",
            "Iteration No: 11  Root: 4.99609375\n",
            "Error: 0.07818608287724785\n"
          ]
        },
        {
          "output_type": "execute_result",
          "data": {
            "text/plain": [
              "4.99609375"
            ]
          },
          "metadata": {},
          "execution_count": 31
        }
      ]
    },
    {
      "cell_type": "markdown",
      "metadata": {
        "id": "5Jb9dNIqT_f8"
      },
      "source": [
        "We can plot graphs in python using the matplotlib library. An example of plotting graphs is shown here"
      ]
    },
    {
      "cell_type": "code",
      "metadata": {
        "colab": {
          "base_uri": "https://localhost:8080/",
          "height": 295
        },
        "id": "0XJwGIRjUCy7",
        "outputId": "cd6276ed-3ce5-4f31-b4af-af5248fbd415"
      },
      "source": [
        "import numpy as np\n",
        "import matplotlib.pyplot as plt\n",
        "\n",
        "iters = np.arange(0, 5) #start=0, stop=5, and since no step is given, so default step=1\n",
        "vals = np.arange(100, 200, 20) #start=100, stop=200, step=20\n",
        "\n",
        "plt.plot(iters, vals)\n",
        "plt.title(\"Iterations vs values plot\")\n",
        "plt.xlabel(\"Iteration\")\n",
        "plt.ylabel(\"Value\")\n",
        "plt.show()"
      ],
      "execution_count": 10,
      "outputs": [
        {
          "output_type": "display_data",
          "data": {
            "text/plain": [
              "<Figure size 432x288 with 1 Axes>"
            ],
            "image/png": "[encoded data removed]"
          },
          "metadata": {
            "needs_background": "light"
          }
        }
      ]
    },
    {
      "cell_type": "markdown",
      "metadata": {
        "id": "Z6sc0ZNUUGNk"
      },
      "source": [
        "## Task 2\n",
        "Generate a plot of **iteration vs relative approx error (%)** for the bisection method function you implemented earlier."
      ]
    },
    {
      "cell_type": "code",
      "source": [
        "import numpy as np\n",
        "import matplotlib.pyplot as plt\n",
        "\n",
        "plt.plot(iterNo, errors)\n",
        "plt.title(\"Iterations vs Errors plot\")\n",
        "plt.xlabel(\"Iteration\")\n",
        "plt.ylabel(\"Error\")\n",
        "plt.show()"
      ],
      "metadata": {
        "colab": {
          "base_uri": "https://localhost:8080/",
          "height": 295
        },
        "id": "Ngtt7Wg3LQMJ",
        "outputId": "f84ea086-c47a-43fd-8e83-ac3d5300ecce"
      },
      "execution_count": 23,
      "outputs": [
        {
          "output_type": "display_data",
          "data": {
            "text/plain": [
              "<Figure size 432x288 with 1 Axes>"
            ],
            "image/png": "[encoded data removed]"
          },
          "metadata": {
            "needs_background": "light"
          }
        }
      ]
    }
  ]
}