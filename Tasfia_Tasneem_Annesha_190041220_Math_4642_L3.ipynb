{
  "nbformat": 4,
  "nbformat_minor": 0,
  "metadata": {
    "colab": {
      "provenance": [],
      "include_colab_link": true
    },
    "kernelspec": {
      "name": "python3",
      "display_name": "Python 3"
    },
    "language_info": {
      "name": "python"
    }
  },
  "cells": [
    {
      "cell_type": "markdown",
      "metadata": {
        "id": "view-in-github",
        "colab_type": "text"
      },
      "source": [
        "<a href=\"https://colab.research.google.com/github/tas-anne/Numerical-Method-LabTask/blob/main/Tasfia_Tasneem_Annesha_190041220_Math_4642_L3.ipynb\" target=\"_parent\"><img src=\"https://colab.research.google.com/assets/colab-badge.svg\" alt=\"Open In Colab\"/></a>"
      ]
    },
    {
      "cell_type": "markdown",
      "source": [
        "# **Lab 3 : Newton's Divided Difference Interpolation**<br>\n",
        "\n",
        "Interpolation is the process of estimating unknown data that lies within the range of some known data. The **Newton's Divided Difference Interpolation** is one of the methods of performing this task. In order to interpolate unknown data, one needs to define a model that would fit the known data and based on that model, one would obtain the unknown data. This model would basically be a function that tries to satisfy the known data points. There can be various types of functions that may satisfy the same given data points, but for interpolation, we usually choose **polynomials** as interpolating functions due to the fact that polynomials are generalized and are very easy to evaluate, differentiate and integrate.\n",
        "\n",
        "In today's lab, we will be implementing the Newton's Divided Difference Interpolation in python. To test our implementation, we will be using the same data that we used during our class lectures. Run the following cell to load the known data points:\n"
      ],
      "metadata": {
        "id": "Dex_lDl5gUKB"
      }
    },
    {
      "cell_type": "code",
      "source": [
        "t = [0, 10, 15, 20, 22.5, 30]\n",
        "v = [0, 227.04, 362.78, 517.35, 602.97, 901.67]"
      ],
      "metadata": {
        "id": "_QpvT2CYjART"
      },
      "execution_count": null,
      "outputs": []
    },
    {
      "cell_type": "markdown",
      "source": [
        "##Task 1\n",
        "Design a utility function that will be called in the Newton's Divided Difference function. The purpose of this function will be to find the n+1 closest points to the unknown value t_new where we want to interpolate the data, where n is the order of the interpolating polynomial. The function to be implemented is as follows:"
      ],
      "metadata": {
        "id": "_XU-vXFFzj4T"
      }
    },
    {
      "cell_type": "code",
      "source": [
        "def NearestPoints(t, v, n, t_new):\n",
        "  #Write your implementation here\n",
        "  diff = []\n",
        "  for i in range(len(t)):\n",
        "    diff.append([abs(t_new-t[i]),t[i],v[i]])\n",
        "  diff = sorted(diff)\n",
        "  t_nearest = []\n",
        "  v_nearest = []\n",
        "  for i in range(n+1):\n",
        "    t_nearest.append(diff[i][1])\n",
        "    v_nearest.append(diff[i][2])\n",
        "  return t_nearest, v_nearest\n"
      ],
      "metadata": {
        "id": "xv0ziIB60ET8"
      },
      "execution_count": null,
      "outputs": []
    },
    {
      "cell_type": "markdown",
      "source": [
        "The above function is supposed to return two vectors, say t_nearest and v_nearest consisting of n+1 elements each. For testing the working of the function, we can print the data and see what we are getting. Run the following cell to check this:"
      ],
      "metadata": {
        "id": "LHxyRNGa0RDb"
      }
    },
    {
      "cell_type": "code",
      "source": [
        "n = 1\n",
        "t_new = 16\n",
        "\n",
        "t_nearest, v_nearest = NearestPoints(t, v, n, t_new)\n",
        "print(t_nearest)\n",
        "print(v_nearest)"
      ],
      "metadata": {
        "id": "Ls-vZyV50zgq",
        "colab": {
          "base_uri": "https://localhost:8080/"
        },
        "outputId": "5c6f91ac-9cbc-4dc5-d254-4a7469d1f452"
      },
      "execution_count": null,
      "outputs": [
        {
          "output_type": "stream",
          "name": "stdout",
          "text": [
            "[15, 20]\n",
            "[362.78, 517.35]\n"
          ]
        }
      ]
    },
    {
      "cell_type": "markdown",
      "source": [
        "##Task 2\n",
        "Now your task is to design a generalized function that takes the given data as parameters as well as the order (n) of the polynomial and uses the Newton's Divided Difference Polynomial to interpolate the uknown data at t_new. The following cell contains the function to be implemented:"
      ],
      "metadata": {
        "id": "GzKLR0nkj32g"
      }
    },
    {
      "cell_type": "code",
      "source": [
        "def b_func(l, r, v, t, b):\n",
        "    if r == l:\n",
        "        b[l][r] = v[l]\n",
        "    elif b[l][r] == None:\n",
        "        b[l][r] = (b_func(l, r + 1, v, t, b) - b_func(l - 1, r, v, t, b)) / (t[l] - t[r])\n",
        "    return b[l][r]\n",
        "\n",
        "def NDD(t, v, n, t_new):\n",
        "    \n",
        "    b = [[None] * (n + 1) for _ in range(n + 1)]\n",
        "    b_func(n, 0, v, t, b)\n",
        "    ans, c = b[0][0], 1\n",
        "    \n",
        "    for i in range(1, n + 1):\n",
        "        c *= (t_new - t[i - 1])\n",
        "        ans += b[i][0] * c\n",
        "    return ans\n",
        "\n",
        "print(NDD(t_nearest, v_nearest, n, t_new))\n"
      ],
      "metadata": {
        "id": "2m1trUT_k5pi",
        "colab": {
          "base_uri": "https://localhost:8080/"
        },
        "outputId": "d063098e-bd76-497f-89a5-2b80945fde0c"
      },
      "execution_count": null,
      "outputs": [
        {
          "output_type": "stream",
          "name": "stdout",
          "text": [
            "393.69399999999996\n"
          ]
        }
      ]
    },
    {
      "cell_type": "markdown",
      "source": [
        "Note that the above function will at first need to find a number of closest points to the unknown data (t_new), and this number will vary depending on the order (n) of the polynomial that we want to use as the interpolating function. So you will have to call the function you implemented in Task 1 inside this function."
      ],
      "metadata": {
        "id": "vcJ2VMvplfpw"
      }
    },
    {
      "cell_type": "markdown",
      "source": [
        "##Task 3\n",
        "Now, test the function using different order of polynomials, setting n = 1, 2, 3 and so on and print the absolute relative approximate error at each step. Also store the time needed for executing the NDD function for the different orders of the polynomial. Finally, generate a plot of **order vs error** and **order vs time** curves in the same graph."
      ],
      "metadata": {
        "id": "HhsqLMYYpD8S"
      }
    },
    {
      "cell_type": "code",
      "source": [
        "#Write your code here for finding the relative approximate errors and time elapsed for different orders of the polynomial\n",
        "import time\n",
        "\n",
        "errors = []\n",
        "time_elapsed = []\n",
        "\n",
        "prev_ans = None\n",
        "\n",
        "for i in range(1, 5):\n",
        "    start = time.time()\n",
        "    ans_new = NDD(t, v, i, t_new)\n",
        "    end = time.time()\n",
        "    time_elapsed.append((end - start)*3000)\n",
        "    if prev_ans:\n",
        "        errors.append(abs(ans_new - prev_ans)/ans_new)\n",
        "    prev_ans = ans_new\n",
        "    \n",
        "import numpy as np\n",
        "import matplotlib.pyplot as plt\n",
        "\n",
        "iters = np.arange(0, len(errors))\n",
        "plt.plot(iters, errors)\n",
        "\n",
        "\n",
        "iters = np.arange(0, len(time_elapsed))\n",
        "plt.plot(iters, time_elapsed)\n",
        "plt.show()\n",
        "\n"
      ],
      "metadata": {
        "id": "ShRMjjHSm-dq",
        "colab": {
          "base_uri": "https://localhost:8080/",
          "height": 265
        },
        "outputId": "ef87bda4-3f04-4ebc-91dc-8dde48d743de"
      },
      "execution_count": null,
      "outputs": [
        {
          "output_type": "display_data",
          "data": {
            "text/plain": [
              "<Figure size 432x288 with 1 Axes>"
            ],
            "image/png": "[encoded data removed]"
          },
          "metadata": {
            "needs_background": "light"
          }
        }
      ]
    }
  ]
}