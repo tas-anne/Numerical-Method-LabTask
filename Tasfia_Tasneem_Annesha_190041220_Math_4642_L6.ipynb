{
  "nbformat": 4,
  "nbformat_minor": 0,
  "metadata": {
    "colab": {
      "provenance": [],
      "include_colab_link": true
    },
    "kernelspec": {
      "name": "python3",
      "display_name": "Python 3"
    },
    "language_info": {
      "name": "python"
    }
  },
  "cells": [
    {
      "cell_type": "markdown",
      "metadata": {
        "id": "view-in-github",
        "colab_type": "text"
      },
      "source": [
        "<a href=\"https://colab.research.google.com/github/tas-anne/Numerical-Method-LabTask/blob/main/Tasfia_Tasneem_Annesha_190041220_Math_4642_L6.ipynb\" target=\"_parent\"><img src=\"https://colab.research.google.com/assets/colab-badge.svg\" alt=\"Open In Colab\"/></a>"
      ]
    },
    {
      "cell_type": "markdown",
      "source": [
        "# **Lab 6 : Integration**<br>\n",
        "\n",
        "Integration is the process of measuring the area under a function. This area actually corresponds to the anti-derivative of the function. For instance, a velocity function $v(t)$ can be obtained as a derivative of a distance function $S(t)$. Inversely, the integration of the velocity function $v(t)$ over a certain time period can give us the distance traveled over that time period. Performing integration analytically is a complex procedure, involving a lot of rules. Computers and calculators perform integration using some sort of numerical method, such as the **Simpson's 1/3 rule** and **Simpson's 3/8 rule**.\n",
        "\n",
        "In today's lab, we will be implementing a mixed version of **Simpson's 1/3 rule** and **Simpson's 3/8 rule** of integration in python. The **Simpson's 1/3 rule** uses a minimum of 2 segments and **Simpson's 3/8 rule** uses a minimum of 3 segments to divide the entire range of the interval of integration, but we can also define a multiple-segment version of this rule that divides the interval into n equal segments, where n is a multiple of 2 and 3 respectively. Suppose we wish to use the n-segment mixed Simpson's 1/3 and Simpson's 3/8 rule to find the distance covered by a rocket from time $t = 8$ to $t = 30$. The velocity function of the rocket is given as $v(t) = 2000ln[ \\frac{140000}{140000-2100t} ] - 9.8t$\n"
      ],
      "metadata": {
        "id": "Dex_lDl5gUKB"
      }
    },
    {
      "cell_type": "markdown",
      "source": [
        "##Task 1\n",
        "Implement a function that takes time as an argument and returns the velocity based on the given velocity function. Then, complete the following MultiSimpson13() and MultiSimpson38() function that takes number of segments n and the time interval (tmin, tmax) as arguments and returns the distance covered within this interval. Your function should also check for the validity of the number of segments."
      ],
      "metadata": {
        "id": "_XU-vXFFzj4T"
      }
    },
    {
      "cell_type": "code",
      "source": [
        "import math\n",
        "import numpy as np\n",
        "def velocity(t):\n",
        "   return (2000*np.log(140000/(140000-(2100*t))))-(9.8*t)\n",
        "\n",
        "\n",
        "def MultiSimpson13(tmin,tmax,n):\n",
        "  #Your code here\n",
        "    h = (tmax - tmin) / n\n",
        "    \n",
        "    # Finding sum \n",
        "    integration = velocity(tmin) + velocity(tmax)\n",
        "    \n",
        "    for i in range(1,n):\n",
        "        k = tmin + i*h\n",
        "        \n",
        "        if i%2 == 0:\n",
        "            integration = integration + 2 * velocity(k)\n",
        "        else:\n",
        "            integration = integration + 4 * velocity(k)\n",
        "    \n",
        "    # Finding final integration value\n",
        "    integration = integration * h/3\n",
        "    \n",
        "    return integration\n",
        "    \n",
        "# Input section\n",
        "lower_limit = float(input(\"Enter lower limit of integration: \"))\n",
        "upper_limit = float(input(\"Enter upper limit of integration: \"))\n",
        "sub_interval = int(input(\"Enter number of sub intervals: \"))\n",
        "\n",
        "# Call trapezoidal() method and get result\n",
        "result = MultiSimpson13(lower_limit, upper_limit, sub_interval)\n",
        "print(\"Integration result by Simpson's 1/3 method is: %0.6f\" % (result) )\n",
        "\n",
        "  #Your code here\n",
        "def MultiSimpson38(tmin,tmax,n):\n",
        "    h = (tmax - tmin) / n\n",
        "    \n",
        "    integration = velocity(tmin) + velocity(tmax)\n",
        "    \n",
        "    for i in range(1,n):\n",
        "        k = tmin + i*h\n",
        "        \n",
        "        if i%3 == 0:\n",
        "            integration = integration + 2 * velocity(k)\n",
        "        else:\n",
        "            integration = integration + 3 * velocity(k)\n",
        "    \n",
        "    # Finding final integration value\n",
        "    integration = integration * 3 * h / 8\n",
        "    \n",
        "    return integration\n",
        "    \n",
        "# Input section\n",
        "lower_limit = float(input(\"Enter lower limit of integration: \"))\n",
        "upper_limit = float(input(\"Enter upper limit of integration: \"))\n",
        "sub_interval = int(input(\"Enter number of sub intervals: \"))\n",
        "\n",
        "# Call trapezoidal() method and get result\n",
        "result = MultiSimpson38(lower_limit, upper_limit, sub_interval)\n",
        "print(\"Integration result by Simpson's 3/8 method is: %0.6f\" % (result) )\n",
        "  \n",
        "\n",
        "  "
      ],
      "metadata": {
        "id": "xv0ziIB60ET8",
        "colab": {
          "base_uri": "https://localhost:8080/"
        },
        "outputId": "398259ad-aaed-4301-e75d-d844ca891dfb"
      },
      "execution_count": null,
      "outputs": [
        {
          "output_type": "stream",
          "name": "stdout",
          "text": [
            "Enter lower limit of integration: 8\n",
            "Enter upper limit of integration: 30\n",
            "Enter number of sub intervals: 4\n",
            "Integration result by Simpson's 1/3 method is: 11061.636137\n",
            "Enter lower limit of integration: 8\n",
            "Enter upper limit of integration: 30\n",
            "Enter number of sub intervals: 6\n",
            "Integration result by Simpson's 3/8 method is: 11061.469677\n"
          ]
        }
      ]
    },
    {
      "cell_type": "markdown",
      "source": [
        "##Task 2\n",
        "Use your previously implemented MultiSimpson13() and MultiSimpson38() function and write a general MultiSimpson() function that takes any n as parameter (n not necessarily a multiple of 2 or 3) and returns the integral result."
      ],
      "metadata": {
        "id": "GzKLR0nkj32g"
      }
    },
    {
      "cell_type": "code",
      "source": [
        "def MultiSimpson(n, tmin, tmax):\n",
        "  #your code here\n",
        "  h = (tmax - tmin) / n\n",
        "\n",
        "  if n<2:\n",
        "    return None\n",
        "  if n%2==0:\n",
        "    return MultiSimpson13(tmin,tmax,n)\n",
        "  if n%3 == 0:\n",
        "    return MultiSimpson38(tmin,tmax,n)\n",
        "  if n%3 == 1:\n",
        "    return MultiSimpson13(tmin,tmin+4*h,4)+MultiSimpson38(n-4,tmin+4*h,tmax)\n",
        "  if n%3 == 2:\n",
        "    return MultiSimpson13(tmin,tmin+2*h,2)+MultiSimpson38(n-2,tmin+2*h,tmax)\n",
        "\n",
        "\n",
        "  \n"
      ],
      "metadata": {
        "id": "2m1trUT_k5pi"
      },
      "execution_count": null,
      "outputs": []
    },
    {
      "cell_type": "code",
      "source": [
        "distance = MultiSimpson(12, 8, 30)\n",
        "print(\"Distance covered :\", distance)"
      ],
      "metadata": {
        "colab": {
          "base_uri": "https://localhost:8080/"
        },
        "id": "NHQmNe2azyEW",
        "outputId": "7a4502d8-e16f-421d-dac8-ea36cc76053e"
      },
      "execution_count": null,
      "outputs": [
        {
          "output_type": "stream",
          "name": "stdout",
          "text": [
            "Distance covered : 11061.339368047464\n"
          ]
        }
      ]
    }
  ]
}